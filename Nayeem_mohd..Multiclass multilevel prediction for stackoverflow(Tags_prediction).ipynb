{
 "cells": [
  {
   "cell_type": "code",
   "execution_count": 1,
   "id": "e24e7504",
   "metadata": {},
   "outputs": [],
   "source": [
    "import numpy as np\n",
    "import pandas as pd \n",
    "import os"
   ]
  },
  {
   "cell_type": "code",
   "execution_count": 2,
   "id": "14c4e124",
   "metadata": {},
   "outputs": [],
   "source": [
    "import matplotlib.pyplot as plt\n",
    "import matplotlib.cm as cm"
   ]
  },
  {
   "cell_type": "code",
   "execution_count": 3,
   "id": "0115d8ab",
   "metadata": {},
   "outputs": [],
   "source": [
    "%matplotlib inline\n",
    "\n",
    "import collections"
   ]
  },
  {
   "cell_type": "code",
   "execution_count": 4,
   "id": "9bc98108",
   "metadata": {},
   "outputs": [],
   "source": [
    "df_tags = pd.read_csv(r'C:\\Users\\91995\\Desktop\\stacksample\\tags.csv', encoding='iso-8859-1')"
   ]
  },
  {
   "cell_type": "code",
   "execution_count": 5,
   "id": "7ac80af6",
   "metadata": {},
   "outputs": [],
   "source": [
    "def plot_tags(tagCount):\n",
    "    \n",
    "    x,y = zip(*tagCount)\n",
    "\n",
    "    colormap = plt.cm.gist_ncar #nipy_spectral, Set1,Paired  \n",
    "    colors = [colormap(i) for i in np.linspace(0, 0.8,50)]   \n",
    "\n",
    "    area = [i/4000 for i in list(y)]   # 0 to 15 point radiuses\n",
    "    plt.figure(figsize=(9,8))\n",
    "    plt.ylabel(\"Number of question associations\")\n",
    "    for i in range(len(y)):\n",
    "        plt.plot(i,y[i], marker='o', linestyle='',ms=area[i],label=x[i])\n",
    "\n",
    "    plt.legend(numpoints=1)\n",
    "    plt.show()"
   ]
  },
  {
   "cell_type": "code",
   "execution_count": 6,
   "id": "088c81ea",
   "metadata": {},
   "outputs": [
    {
     "name": "stdout",
     "output_type": "stream",
     "text": [
      "[('javascript', 124155), ('java', 115212), ('c#', 101186), ('php', 98808), ('android', 90659), ('jquery', 78542), ('python', 64601), ('html', 58976), ('c++', 47591), ('ios', 47009)]\n"
     ]
    },
    {
     "data": {
      "image/png": "[encoded data removed]",
      "text/plain": [
       "<Figure size 648x576 with 1 Axes>"
      ]
     },
     "metadata": {
      "needs_background": "light"
     },
     "output_type": "display_data"
    }
   ],
   "source": [
    "tagCount =  collections.Counter(list(df_tags['Tag'])).most_common(10)\n",
    "print(tagCount)\n",
    "plot_tags(tagCount)"
   ]
  },
  {
   "cell_type": "code",
   "execution_count": 7,
   "id": "096c3f1b",
   "metadata": {},
   "outputs": [],
   "source": [
    "top10=['javascript','java','c#','php','android','jquery','python','html','c++','ios']"
   ]
  },
  {
   "cell_type": "code",
   "execution_count": 8,
   "id": "a6384881",
   "metadata": {},
   "outputs": [
    {
     "name": "stdout",
     "output_type": "stream",
     "text": [
      "(826739, 2)\n"
     ]
    },
    {
     "data": {
      "text/html": [
       "<div>\n",
       "<style scoped>\n",
       "    .dataframe tbody tr th:only-of-type {\n",
       "        vertical-align: middle;\n",
       "    }\n",
       "\n",
       "    .dataframe tbody tr th {\n",
       "        vertical-align: top;\n",
       "    }\n",
       "\n",
       "    .dataframe thead th {\n",
       "        text-align: right;\n",
       "    }\n",
       "</style>\n",
       "<table border=\"1\" class=\"dataframe\">\n",
       "  <thead>\n",
       "    <tr style=\"text-align: right;\">\n",
       "      <th></th>\n",
       "      <th>Id</th>\n",
       "      <th>Tag</th>\n",
       "    </tr>\n",
       "  </thead>\n",
       "  <tbody>\n",
       "    <tr>\n",
       "      <th>14</th>\n",
       "      <td>260</td>\n",
       "      <td>c#</td>\n",
       "    </tr>\n",
       "    <tr>\n",
       "      <th>18</th>\n",
       "      <td>330</td>\n",
       "      <td>c++</td>\n",
       "    </tr>\n",
       "    <tr>\n",
       "      <th>28</th>\n",
       "      <td>650</td>\n",
       "      <td>c#</td>\n",
       "    </tr>\n",
       "    <tr>\n",
       "      <th>35</th>\n",
       "      <td>930</td>\n",
       "      <td>c#</td>\n",
       "    </tr>\n",
       "    <tr>\n",
       "      <th>39</th>\n",
       "      <td>1010</td>\n",
       "      <td>c#</td>\n",
       "    </tr>\n",
       "  </tbody>\n",
       "</table>\n",
       "</div>"
      ],
      "text/plain": [
       "      Id  Tag\n",
       "14   260   c#\n",
       "18   330  c++\n",
       "28   650   c#\n",
       "35   930   c#\n",
       "39  1010   c#"
      ]
     },
     "execution_count": 8,
     "metadata": {},
     "output_type": "execute_result"
    }
   ],
   "source": [
    "tag_top10= df_tags[df_tags.Tag.isin(top10)]\n",
    "print (tag_top10.shape)\n",
    "tag_top10.head()"
   ]
  },
  {
   "cell_type": "code",
   "execution_count": 9,
   "id": "66b1462b",
   "metadata": {},
   "outputs": [
    {
     "data": {
      "text/plain": [
       "30289880    5\n",
       "4009250     5\n",
       "35318730    5\n",
       "30991580    5\n",
       "23267320    5\n",
       "11648170    5\n",
       "30798790    5\n",
       "23484760    5\n",
       "35283570    5\n",
       "31085960    5\n",
       "Name: Id, dtype: int64"
      ]
     },
     "execution_count": 9,
     "metadata": {},
     "output_type": "execute_result"
    }
   ],
   "source": [
    "tag_top10['Id'].value_counts().head(10)\n"
   ]
  },
  {
   "cell_type": "code",
   "execution_count": 10,
   "id": "2c9479f3",
   "metadata": {},
   "outputs": [
    {
     "data": {
      "text/html": [
       "<div>\n",
       "<style scoped>\n",
       "    .dataframe tbody tr th:only-of-type {\n",
       "        vertical-align: middle;\n",
       "    }\n",
       "\n",
       "    .dataframe tbody tr th {\n",
       "        vertical-align: top;\n",
       "    }\n",
       "\n",
       "    .dataframe thead th {\n",
       "        text-align: right;\n",
       "    }\n",
       "</style>\n",
       "<table border=\"1\" class=\"dataframe\">\n",
       "  <thead>\n",
       "    <tr style=\"text-align: right;\">\n",
       "      <th></th>\n",
       "      <th>Id</th>\n",
       "      <th>Tag</th>\n",
       "    </tr>\n",
       "  </thead>\n",
       "  <tbody>\n",
       "    <tr>\n",
       "      <th>14</th>\n",
       "      <td>260</td>\n",
       "      <td>c#</td>\n",
       "    </tr>\n",
       "    <tr>\n",
       "      <th>18</th>\n",
       "      <td>330</td>\n",
       "      <td>c++</td>\n",
       "    </tr>\n",
       "    <tr>\n",
       "      <th>28</th>\n",
       "      <td>650</td>\n",
       "      <td>c#</td>\n",
       "    </tr>\n",
       "    <tr>\n",
       "      <th>35</th>\n",
       "      <td>930</td>\n",
       "      <td>c#</td>\n",
       "    </tr>\n",
       "    <tr>\n",
       "      <th>39</th>\n",
       "      <td>1010</td>\n",
       "      <td>c#</td>\n",
       "    </tr>\n",
       "  </tbody>\n",
       "</table>\n",
       "</div>"
      ],
      "text/plain": [
       "      Id  Tag\n",
       "14   260   c#\n",
       "18   330  c++\n",
       "28   650   c#\n",
       "35   930   c#\n",
       "39  1010   c#"
      ]
     },
     "execution_count": 10,
     "metadata": {},
     "output_type": "execute_result"
    }
   ],
   "source": [
    "tag_top10.head()"
   ]
  },
  {
   "cell_type": "code",
   "execution_count": 11,
   "id": "c1e6d0a1",
   "metadata": {},
   "outputs": [],
   "source": [
    "def add_tags(question_id):\n",
    "    return tag_top10[tag_top10['Id'] == question_id['Id']].Tag.values\n",
    "\n",
    "top10 = tag_top10.apply(add_tags, axis=1)"
   ]
  },
  {
   "cell_type": "code",
   "execution_count": 12,
   "id": "a966c169",
   "metadata": {},
   "outputs": [
    {
     "data": {
      "text/plain": [
       "(826739, (826739, 2))"
      ]
     },
     "execution_count": 12,
     "metadata": {},
     "output_type": "execute_result"
    }
   ],
   "source": [
    "len(top10),tag_top10.shape"
   ]
  },
  {
   "cell_type": "code",
   "execution_count": 13,
   "id": "585a6711",
   "metadata": {},
   "outputs": [
    {
     "data": {
      "text/html": [
       "<div>\n",
       "<style scoped>\n",
       "    .dataframe tbody tr th:only-of-type {\n",
       "        vertical-align: middle;\n",
       "    }\n",
       "\n",
       "    .dataframe tbody tr th {\n",
       "        vertical-align: top;\n",
       "    }\n",
       "\n",
       "    .dataframe thead th {\n",
       "        text-align: right;\n",
       "    }\n",
       "</style>\n",
       "<table border=\"1\" class=\"dataframe\">\n",
       "  <thead>\n",
       "    <tr style=\"text-align: right;\">\n",
       "      <th></th>\n",
       "      <th>Id</th>\n",
       "      <th>Tag</th>\n",
       "      <th>Tags</th>\n",
       "    </tr>\n",
       "  </thead>\n",
       "  <tbody>\n",
       "    <tr>\n",
       "      <th>14</th>\n",
       "      <td>260</td>\n",
       "      <td>c#</td>\n",
       "      <td>[c#]</td>\n",
       "    </tr>\n",
       "    <tr>\n",
       "      <th>18</th>\n",
       "      <td>330</td>\n",
       "      <td>c++</td>\n",
       "      <td>[c++]</td>\n",
       "    </tr>\n",
       "    <tr>\n",
       "      <th>28</th>\n",
       "      <td>650</td>\n",
       "      <td>c#</td>\n",
       "      <td>[c#]</td>\n",
       "    </tr>\n",
       "    <tr>\n",
       "      <th>35</th>\n",
       "      <td>930</td>\n",
       "      <td>c#</td>\n",
       "      <td>[c#]</td>\n",
       "    </tr>\n",
       "    <tr>\n",
       "      <th>39</th>\n",
       "      <td>1010</td>\n",
       "      <td>c#</td>\n",
       "      <td>[c#]</td>\n",
       "    </tr>\n",
       "  </tbody>\n",
       "</table>\n",
       "</div>"
      ],
      "text/plain": [
       "      Id  Tag   Tags\n",
       "14   260   c#   [c#]\n",
       "18   330  c++  [c++]\n",
       "28   650   c#   [c#]\n",
       "35   930   c#   [c#]\n",
       "39  1010   c#   [c#]"
      ]
     },
     "execution_count": 13,
     "metadata": {},
     "output_type": "execute_result"
    }
   ],
   "source": [
    "tag_top10=pd.concat([tag_top10, top10.rename('Tags')], axis=1)\n",
    "tag_top10.head()"
   ]
  },
  {
   "cell_type": "code",
   "execution_count": 14,
   "id": "79e09949",
   "metadata": {},
   "outputs": [
    {
     "data": {
      "text/plain": [
       "(826739, 2)"
      ]
     },
     "execution_count": 14,
     "metadata": {},
     "output_type": "execute_result"
    }
   ],
   "source": [
    "tag_top10.drop([\"Tag\"], axis=1, inplace=True)\n",
    "tag_top10.shape"
   ]
  },
  {
   "cell_type": "code",
   "execution_count": 15,
   "id": "c5cf73e1",
   "metadata": {},
   "outputs": [],
   "source": [
    "top10_tags=tag_top10.loc[tag_top10.astype(str).drop_duplicates().index]"
   ]
  },
  {
   "cell_type": "code",
   "execution_count": 16,
   "id": "7a0e9258",
   "metadata": {},
   "outputs": [
    {
     "data": {
      "text/html": [
       "<div>\n",
       "<style scoped>\n",
       "    .dataframe tbody tr th:only-of-type {\n",
       "        vertical-align: middle;\n",
       "    }\n",
       "\n",
       "    .dataframe tbody tr th {\n",
       "        vertical-align: top;\n",
       "    }\n",
       "\n",
       "    .dataframe thead th {\n",
       "        text-align: right;\n",
       "    }\n",
       "</style>\n",
       "<table border=\"1\" class=\"dataframe\">\n",
       "  <thead>\n",
       "    <tr style=\"text-align: right;\">\n",
       "      <th></th>\n",
       "      <th>Id</th>\n",
       "      <th>Title</th>\n",
       "      <th>Body</th>\n",
       "    </tr>\n",
       "  </thead>\n",
       "  <tbody>\n",
       "    <tr>\n",
       "      <th>0</th>\n",
       "      <td>80</td>\n",
       "      <td>SQLStatement.execute() - multiple queries in o...</td>\n",
       "      <td>I've written a database generation script in S...</td>\n",
       "    </tr>\n",
       "    <tr>\n",
       "      <th>1</th>\n",
       "      <td>90</td>\n",
       "      <td>Good branching and merging tutorials for Torto...</td>\n",
       "      <td>Are there any really good tutorials explaining...</td>\n",
       "    </tr>\n",
       "    <tr>\n",
       "      <th>2</th>\n",
       "      <td>120</td>\n",
       "      <td>ASP.NET Site Maps</td>\n",
       "      <td>Has anyone got experience creating SQL-based A...</td>\n",
       "    </tr>\n",
       "    <tr>\n",
       "      <th>3</th>\n",
       "      <td>180</td>\n",
       "      <td>Function for creating color wheels</td>\n",
       "      <td>This is something I've pseudo-solved many time...</td>\n",
       "    </tr>\n",
       "    <tr>\n",
       "      <th>4</th>\n",
       "      <td>260</td>\n",
       "      <td>Adding scripting functionality to .NET applica...</td>\n",
       "      <td>I have a little game written in C#. It uses a ...</td>\n",
       "    </tr>\n",
       "  </tbody>\n",
       "</table>\n",
       "</div>"
      ],
      "text/plain": [
       "    Id                                              Title  \\\n",
       "0   80  SQLStatement.execute() - multiple queries in o...   \n",
       "1   90  Good branching and merging tutorials for Torto...   \n",
       "2  120                                  ASP.NET Site Maps   \n",
       "3  180                 Function for creating color wheels   \n",
       "4  260  Adding scripting functionality to .NET applica...   \n",
       "\n",
       "                                                Body  \n",
       "0  I've written a database generation script in S...  \n",
       "1  Are there any really good tutorials explaining...  \n",
       "2  Has anyone got experience creating SQL-based A...  \n",
       "3  This is something I've pseudo-solved many time...  \n",
       "4  I have a little game written in C#. It uses a ...  "
      ]
     },
     "execution_count": 16,
     "metadata": {},
     "output_type": "execute_result"
    }
   ],
   "source": [
    "ques = pd.read_csv(r'C:\\Users\\91995\\Desktop\\project1.DL\\question_clean.csv', encoding='iso-8859-1')\n",
    "ques.head()"
   ]
  },
  {
   "cell_type": "code",
   "execution_count": 17,
   "id": "d491317e",
   "metadata": {},
   "outputs": [
    {
     "name": "stdout",
     "output_type": "stream",
     "text": [
      "(706336, 4)\n"
     ]
    },
    {
     "data": {
      "text/html": [
       "<div>\n",
       "<style scoped>\n",
       "    .dataframe tbody tr th:only-of-type {\n",
       "        vertical-align: middle;\n",
       "    }\n",
       "\n",
       "    .dataframe tbody tr th {\n",
       "        vertical-align: top;\n",
       "    }\n",
       "\n",
       "    .dataframe thead th {\n",
       "        text-align: right;\n",
       "    }\n",
       "</style>\n",
       "<table border=\"1\" class=\"dataframe\">\n",
       "  <thead>\n",
       "    <tr style=\"text-align: right;\">\n",
       "      <th></th>\n",
       "      <th>Id</th>\n",
       "      <th>Title</th>\n",
       "      <th>Body</th>\n",
       "      <th>Tags</th>\n",
       "    </tr>\n",
       "  </thead>\n",
       "  <tbody>\n",
       "    <tr>\n",
       "      <th>0</th>\n",
       "      <td>260</td>\n",
       "      <td>Adding scripting functionality to .NET applica...</td>\n",
       "      <td>I have a little game written in C#. It uses a ...</td>\n",
       "      <td>[c#]</td>\n",
       "    </tr>\n",
       "    <tr>\n",
       "      <th>1</th>\n",
       "      <td>330</td>\n",
       "      <td>Should I use nested classes in this case?</td>\n",
       "      <td>I am working on a collection of classes used f...</td>\n",
       "      <td>[c++]</td>\n",
       "    </tr>\n",
       "    <tr>\n",
       "      <th>2</th>\n",
       "      <td>650</td>\n",
       "      <td>Automatically update version number</td>\n",
       "      <td>I would like the version property of my applic...</td>\n",
       "      <td>[c#]</td>\n",
       "    </tr>\n",
       "    <tr>\n",
       "      <th>3</th>\n",
       "      <td>930</td>\n",
       "      <td>How do I connect to a database and loop over a...</td>\n",
       "      <td>What's the simplest way to connect and query a...</td>\n",
       "      <td>[c#]</td>\n",
       "    </tr>\n",
       "    <tr>\n",
       "      <th>4</th>\n",
       "      <td>1010</td>\n",
       "      <td>How to get the value of built, encoded ViewState?</td>\n",
       "      <td>I need to grab the base64-encoded representati...</td>\n",
       "      <td>[c#]</td>\n",
       "    </tr>\n",
       "  </tbody>\n",
       "</table>\n",
       "</div>"
      ],
      "text/plain": [
       "     Id                                              Title  \\\n",
       "0   260  Adding scripting functionality to .NET applica...   \n",
       "1   330          Should I use nested classes in this case?   \n",
       "2   650                Automatically update version number   \n",
       "3   930  How do I connect to a database and loop over a...   \n",
       "4  1010  How to get the value of built, encoded ViewState?   \n",
       "\n",
       "                                                Body   Tags  \n",
       "0  I have a little game written in C#. It uses a ...   [c#]  \n",
       "1  I am working on a collection of classes used f...  [c++]  \n",
       "2  I would like the version property of my applic...   [c#]  \n",
       "3  What's the simplest way to connect and query a...   [c#]  \n",
       "4  I need to grab the base64-encoded representati...   [c#]  "
      ]
     },
     "execution_count": 17,
     "metadata": {},
     "output_type": "execute_result"
    }
   ],
   "source": [
    "total=pd.merge(ques, top10_tags, on='Id')\n",
    "print(total.shape)\n",
    "total.head()"
   ]
  },
  {
   "cell_type": "code",
   "execution_count": 18,
   "id": "ac09b5aa",
   "metadata": {},
   "outputs": [],
   "source": [
    "import os"
   ]
  },
  {
   "cell_type": "code",
   "execution_count": 19,
   "id": "0ad46267",
   "metadata": {},
   "outputs": [],
   "source": [
    "from sklearn.model_selection import train_test_split\n",
    "from sklearn.preprocessing import MultiLabelBinarizer\n",
    "from nltk import word_tokenize\n",
    "from keras.preprocessing.text import Tokenizer\n",
    "from keras.preprocessing import sequence\n",
    "from keras.layers import LSTM, Activation, Dense, Dropout, Input, Embedding, BatchNormalization, GRU ,concatenate\n",
    "from keras.models import Model"
   ]
  },
  {
   "cell_type": "code",
   "execution_count": 20,
   "id": "921d404d",
   "metadata": {},
   "outputs": [
    {
     "data": {
      "text/plain": [
       "array(['android', 'c#', 'c++', 'html', 'ios', 'java', 'javascript',\n",
       "       'jquery', 'php', 'python'], dtype=object)"
      ]
     },
     "execution_count": 20,
     "metadata": {},
     "output_type": "execute_result"
    }
   ],
   "source": [
    "multilabel_binarizer = MultiLabelBinarizer()\n",
    "multilabel_binarizer.fit(total.Tags)\n",
    "labels = multilabel_binarizer.classes_\n",
    "labels"
   ]
  },
  {
   "cell_type": "code",
   "execution_count": 21,
   "id": "a87fb27d",
   "metadata": {},
   "outputs": [],
   "source": [
    "train,test=train_test_split(total[:550000],test_size=0.25,random_state=24)"
   ]
  },
  {
   "cell_type": "code",
   "execution_count": 22,
   "id": "f7a36b51",
   "metadata": {},
   "outputs": [],
   "source": [
    "X_train_t=train['Title']\n",
    "X_train_b=train['Body']\n",
    "y_train=multilabel_binarizer.transform(train['Tags'])\n",
    "X_test_t=test['Title']\n",
    "X_test_b=test['Body']\n",
    "y_test=multilabel_binarizer.transform(test['Tags'])"
   ]
  },
  {
   "cell_type": "code",
   "execution_count": 23,
   "id": "8f770f8f",
   "metadata": {},
   "outputs": [
    {
     "data": {
      "text/plain": [
       "60"
      ]
     },
     "execution_count": 23,
     "metadata": {},
     "output_type": "execute_result"
    }
   ],
   "source": [
    "sent_lens_t=[]\n",
    "for sent in train['Title']:\n",
    "    sent_lens_t.append(len(word_tokenize(sent)))\n",
    "max(sent_lens_t)"
   ]
  },
  {
   "cell_type": "code",
   "execution_count": 24,
   "id": "e5ae1fba",
   "metadata": {},
   "outputs": [
    {
     "name": "stderr",
     "output_type": "stream",
     "text": [
      "[nltk_data] Downloading package punkt to\n",
      "[nltk_data]     C:\\Users\\91995\\AppData\\Roaming\\nltk_data...\n",
      "[nltk_data]   Package punkt is already up-to-date!\n"
     ]
    },
    {
     "data": {
      "text/plain": [
       "True"
      ]
     },
     "execution_count": 24,
     "metadata": {},
     "output_type": "execute_result"
    }
   ],
   "source": [
    "\n",
    "  >>> import nltk\n",
    "  >>> nltk.download('punkt')"
   ]
  },
  {
   "cell_type": "code",
   "execution_count": 25,
   "id": "17e24fee",
   "metadata": {},
   "outputs": [
    {
     "data": {
      "text/plain": [
       "18.0"
      ]
     },
     "execution_count": 25,
     "metadata": {},
     "output_type": "execute_result"
    }
   ],
   "source": [
    "np.quantile(sent_lens_t,0.97)"
   ]
  },
  {
   "cell_type": "code",
   "execution_count": 26,
   "id": "ffba8a67",
   "metadata": {},
   "outputs": [],
   "source": [
    "max_len_t = 16\n",
    "tok = Tokenizer(char_level=False,split=' ')\n",
    "tok.fit_on_texts(X_train_t)\n",
    "sequences_train_t = tok.texts_to_sequences(X_train_t)"
   ]
  },
  {
   "cell_type": "code",
   "execution_count": 27,
   "id": "d4a2a1a1",
   "metadata": {
    "scrolled": true
   },
   "outputs": [
    {
     "data": {
      "text/plain": [
       "68969"
      ]
     },
     "execution_count": 27,
     "metadata": {},
     "output_type": "execute_result"
    }
   ],
   "source": [
    "vocab_len_t=len(tok.index_word.keys())\n",
    "vocab_len_t"
   ]
  },
  {
   "cell_type": "code",
   "execution_count": 28,
   "id": "539c6d40",
   "metadata": {},
   "outputs": [
    {
     "data": {
      "text/plain": [
       "array([[    0,     0,     0, ...,     1,   957,   197],\n",
       "       [    0,     0,     0, ...,  9081,    45,   533],\n",
       "       [    0,     0,     0, ...,   147,     8,   230],\n",
       "       ...,\n",
       "       [    0,     0,     0, ...,    10,    71,  2985],\n",
       "       [    0,     0,     0, ...,     2,    18,    75],\n",
       "       [    0,     0,     0, ..., 11009,   809,   267]])"
      ]
     },
     "execution_count": 28,
     "metadata": {},
     "output_type": "execute_result"
    }
   ],
   "source": [
    "sequences_matrix_train_t = sequence.pad_sequences(sequences_train_t,maxlen=max_len_t)\n",
    "sequences_matrix_train_t"
   ]
  },
  {
   "cell_type": "code",
   "execution_count": 29,
   "id": "4b9e577b",
   "metadata": {},
   "outputs": [],
   "source": [
    "sequences_test_t = tok.texts_to_sequences(X_test_t)\n",
    "sequences_matrix_test_t = sequence.pad_sequences(sequences_test_t,maxlen=max_len_t)"
   ]
  },
  {
   "cell_type": "code",
   "execution_count": 30,
   "id": "ecbc02fa",
   "metadata": {},
   "outputs": [
    {
     "data": {
      "text/plain": [
       "((412500, 16), (137500, 16), (412500, 10), (137500, 10))"
      ]
     },
     "execution_count": 30,
     "metadata": {},
     "output_type": "execute_result"
    }
   ],
   "source": [
    "sequences_matrix_train_t.shape,sequences_matrix_test_t.shape,y_train.shape,y_test.shape"
   ]
  },
  {
   "cell_type": "code",
   "execution_count": 31,
   "id": "d134249a",
   "metadata": {},
   "outputs": [
    {
     "data": {
      "text/plain": [
       "20868"
      ]
     },
     "execution_count": 31,
     "metadata": {},
     "output_type": "execute_result"
    }
   ],
   "source": [
    "sent_lens_b=[]\n",
    "for sent in train['Body']:\n",
    "    sent_lens_b.append(len(word_tokenize(sent)))\n",
    "max(sent_lens_b)"
   ]
  },
  {
   "cell_type": "code",
   "execution_count": 32,
   "id": "287c30af",
   "metadata": {},
   "outputs": [
    {
     "data": {
      "text/plain": [
       "578.0"
      ]
     },
     "execution_count": 32,
     "metadata": {},
     "output_type": "execute_result"
    }
   ],
   "source": [
    "np.quantile(sent_lens_b,0.90)"
   ]
  },
  {
   "cell_type": "code",
   "execution_count": 33,
   "id": "30914b4d",
   "metadata": {},
   "outputs": [],
   "source": [
    "max_len_b = 200\n",
    "tok = Tokenizer(char_level=False,split=' ')\n",
    "tok.fit_on_texts(X_train_b)\n",
    "sequences_train_b = tok.texts_to_sequences(X_train_b)"
   ]
  },
  {
   "cell_type": "code",
   "execution_count": 34,
   "id": "65d3374d",
   "metadata": {},
   "outputs": [
    {
     "data": {
      "text/plain": [
       "1292018"
      ]
     },
     "execution_count": 34,
     "metadata": {},
     "output_type": "execute_result"
    }
   ],
   "source": [
    "vocab_len_b =len(tok.index_word.keys())\n",
    "vocab_len_b "
   ]
  },
  {
   "cell_type": "code",
   "execution_count": 35,
   "id": "891241a3",
   "metadata": {},
   "outputs": [
    {
     "data": {
      "text/plain": [
       "array([[   0,    0,    0, ...,   51, 2082,   91],\n",
       "       [   0,    0,    0, ..., 1408,  203,  825],\n",
       "       [   0,    0,    0, ...,   34,   51,   83],\n",
       "       ...,\n",
       "       [   0,    0,    0, ...,   20,   68,  687],\n",
       "       [   0,    0,    0, ...,  187,   58,   10],\n",
       "       [   0,    0,    0, ...,  194,  197,   10]])"
      ]
     },
     "execution_count": 35,
     "metadata": {},
     "output_type": "execute_result"
    }
   ],
   "source": [
    "sequences_matrix_train_b = sequence.pad_sequences(sequences_train_b,maxlen=max_len_b)\n",
    "sequences_matrix_train_b"
   ]
  },
  {
   "cell_type": "code",
   "execution_count": 36,
   "id": "462ac3de",
   "metadata": {},
   "outputs": [],
   "source": [
    "sequences_test_b = tok.texts_to_sequences(X_test_b)\n",
    "sequences_matrix_test_b = sequence.pad_sequences(sequences_test_b,maxlen=max_len_b)"
   ]
  },
  {
   "cell_type": "code",
   "execution_count": 37,
   "id": "25aa8c6e",
   "metadata": {},
   "outputs": [
    {
     "data": {
      "text/plain": [
       "((412500, 16), (412500, 200), (412500, 10))"
      ]
     },
     "execution_count": 37,
     "metadata": {},
     "output_type": "execute_result"
    }
   ],
   "source": [
    "sequences_matrix_train_t.shape,sequences_matrix_train_b.shape,y_train.shape"
   ]
  },
  {
   "cell_type": "code",
   "execution_count": 38,
   "id": "1e8acf0e",
   "metadata": {},
   "outputs": [
    {
     "data": {
      "text/plain": [
       "((137500, 16), (137500, 200), (137500, 10))"
      ]
     },
     "execution_count": 38,
     "metadata": {},
     "output_type": "execute_result"
    }
   ],
   "source": [
    "sequences_matrix_test_t.shape,sequences_matrix_test_b.shape,y_test.shape"
   ]
  },
  {
   "cell_type": "code",
   "execution_count": 39,
   "id": "003fade5",
   "metadata": {},
   "outputs": [],
   "source": [
    "def RNN():\n",
    "    # Title\n",
    "    title_input = Input(name='title_input',shape=[max_len_t])\n",
    "    title_Embed = Embedding(vocab_len_t+1,300,input_length=max_len_t,mask_zero=True,name='title_Embed')(title_input)\n",
    "    gru_out_t = GRU(200)(title_Embed)\n",
    "    # auxiliary output to tune GRU weights smoothly \n",
    "    auxiliary_output = Dense(10, activation='sigmoid', name='aux_output')(gru_out_t)   \n",
    "    \n",
    "    # Body \n",
    "    body_input = Input(name='body_input',shape=[max_len_b]) \n",
    "    body_Embed = Embedding(vocab_len_b+1,100,input_length=max_len_b,mask_zero=True,name='body_Embed')(body_input)\n",
    "    gru_out_b = GRU(200)(body_Embed)\n",
    "    \n",
    "    # combined with GRU output\n",
    "    com = concatenate([gru_out_t, gru_out_b])\n",
    "    \n",
    "    # now the combined data is being fed to dense layers\n",
    "    dense1 = Dense(200,activation='relu')(com)\n",
    "    dp1 = Dropout(0.5)(dense1)\n",
    "    bn = BatchNormalization()(dp1) \n",
    "    dense2 = Dense(100,activation='relu')(bn)\n",
    "    \n",
    "    main_output = Dense(8, activation='sigmoid', name='main_output')(dense2)\n",
    "    \n",
    "    model = Model(inputs=[title_input, body_input],outputs=[main_output, auxiliary_output])\n",
    "    return model"
   ]
  },
  {
   "cell_type": "code",
   "execution_count": 40,
   "id": "8499853d",
   "metadata": {},
   "outputs": [
    {
     "name": "stdout",
     "output_type": "stream",
     "text": [
      "Model: \"model\"\n",
      "__________________________________________________________________________________________________\n",
      " Layer (type)                   Output Shape         Param #     Connected to                     \n",
      "==================================================================================================\n",
      " title_input (InputLayer)       [(None, 16)]         0           []                               \n",
      "                                                                                                  \n",
      " body_input (InputLayer)        [(None, 200)]        0           []                               \n",
      "                                                                                                  \n",
      " title_Embed (Embedding)        (None, 16, 300)      20691000    ['title_input[0][0]']            \n",
      "                                                                                                  \n",
      " body_Embed (Embedding)         (None, 200, 100)     129201900   ['body_input[0][0]']             \n",
      "                                                                                                  \n",
      " gru (GRU)                      (None, 200)          301200      ['title_Embed[0][0]']            \n",
      "                                                                                                  \n",
      " gru_1 (GRU)                    (None, 200)          181200      ['body_Embed[0][0]']             \n",
      "                                                                                                  \n",
      " concatenate (Concatenate)      (None, 400)          0           ['gru[0][0]',                    \n",
      "                                                                  'gru_1[0][0]']                  \n",
      "                                                                                                  \n",
      " dense (Dense)                  (None, 200)          80200       ['concatenate[0][0]']            \n",
      "                                                                                                  \n",
      " dropout (Dropout)              (None, 200)          0           ['dense[0][0]']                  \n",
      "                                                                                                  \n",
      " batch_normalization (BatchNorm  (None, 200)         800         ['dropout[0][0]']                \n",
      " alization)                                                                                       \n",
      "                                                                                                  \n",
      " dense_1 (Dense)                (None, 100)          20100       ['batch_normalization[0][0]']    \n",
      "                                                                                                  \n",
      " main_output (Dense)            (None, 8)            808         ['dense_1[0][0]']                \n",
      "                                                                                                  \n",
      " aux_output (Dense)             (None, 10)           2010        ['gru[0][0]']                    \n",
      "                                                                                                  \n",
      "==================================================================================================\n",
      "Total params: 150,479,218\n",
      "Trainable params: 150,478,818\n",
      "Non-trainable params: 400\n",
      "__________________________________________________________________________________________________\n"
     ]
    }
   ],
   "source": [
    "model = RNN()\n",
    "model.summary()"
   ]
  },
  {
   "cell_type": "code",
   "execution_count": 41,
   "id": "5d957fa2",
   "metadata": {},
   "outputs": [],
   "source": [
    "model.compile(optimizer='adam',loss={'main_output': 'categorical_crossentropy', 'aux_output': 'categorical_crossentropy'},\n",
    "              metrics=['accuracy'])"
   ]
  },
  {
   "cell_type": "code",
   "execution_count": 42,
   "id": "d545ef5a",
   "metadata": {},
   "outputs": [],
   "source": [
    "import tensorflow as tf"
   ]
  },
  {
   "cell_type": "code",
   "execution_count": 46,
   "id": "6adef74d",
   "metadata": {},
   "outputs": [
    {
     "name": "stdout",
     "output_type": "stream",
     "text": [
      "4297/4297 [==============================] - 1556s 355ms/step\n"
     ]
    }
   ],
   "source": [
    "(predicted_main, predicted_aux)=model.predict({'title_input': sequences_matrix_test_t, 'body_input': sequences_matrix_test_b},verbose=1)"
   ]
  },
  {
   "cell_type": "code",
   "execution_count": 47,
   "id": "4418bc68",
   "metadata": {},
   "outputs": [],
   "source": [
    "from sklearn.metrics import classification_report"
   ]
  },
  {
   "cell_type": "code",
   "execution_count": 50,
   "id": "8839dd56",
   "metadata": {},
   "outputs": [
    {
     "data": {
      "text/plain": [
       "Id                                                16470700\n",
       "Title    NetworkOnMainThreadException- Have tried makin...\n",
       "Body     I've been trying to get this to work for a whi...\n",
       "Tags                                       [java, android]\n",
       "Name: 250148, dtype: object"
      ]
     },
     "execution_count": 50,
     "metadata": {},
     "output_type": "execute_result"
    }
   ],
   "source": [
    "test.iloc[24]\n"
   ]
  },
  {
   "cell_type": "code",
   "execution_count": 51,
   "id": "a5309dc4",
   "metadata": {},
   "outputs": [
    {
     "data": {
      "text/plain": [
       "array([0.5 , 0.5 , 0.49, 0.5 , 0.49, 0.5 , 0.5 , 0.5 ], dtype=float32)"
      ]
     },
     "execution_count": 51,
     "metadata": {},
     "output_type": "execute_result"
    }
   ],
   "source": [
    "predicted_main[24].round(decimals = 2)"
   ]
  },
  {
   "cell_type": "code",
   "execution_count": 52,
   "id": "d1544be7",
   "metadata": {},
   "outputs": [
    {
     "data": {
      "text/plain": [
       "array(['android', 'c#', 'c++', 'html', 'ios', 'java', 'javascript',\n",
       "       'jquery', 'php', 'python'], dtype=object)"
      ]
     },
     "execution_count": 52,
     "metadata": {},
     "output_type": "execute_result"
    }
   ],
   "source": [
    "labels"
   ]
  },
  {
   "cell_type": "code",
   "execution_count": null,
   "id": "e5a233a3",
   "metadata": {},
   "outputs": [],
   "source": []
  }
 ],
 "metadata": {
  "kernelspec": {
   "display_name": "Python 3",
   "language": "python",
   "name": "python3"
  },
  "language_info": {
   "codemirror_mode": {
    "name": "ipython",
    "version": 3
   },
   "file_extension": ".py",
   "mimetype": "text/x-python",
   "name": "python",
   "nbconvert_exporter": "python",
   "pygments_lexer": "ipython3",
   "version": "3.8.8"
  }
 },
 "nbformat": 4,
 "nbformat_minor": 5
}
